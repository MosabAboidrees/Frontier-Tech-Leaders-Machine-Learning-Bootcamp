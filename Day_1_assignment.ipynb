{
  "cells": [
    {
      "cell_type": "markdown",
      "id": "4ae1866b",
      "metadata": {
        "id": "4ae1866b"
      },
      "source": [
        "# Assignment1: BMI Calculator and Health Assessment"
      ]
    },
    {
      "cell_type": "markdown",
      "id": "7ea9d828",
      "metadata": {
        "id": "7ea9d828"
      },
      "source": [
        "\n",
        "\n",
        "**Objective:**\n",
        "\n",
        "Build a Python program that calculates the Body Mass Index (BMI) of a user and provides a health assessment based on their BMI value.\n",
        "\n",
        "**Background Context:**\n",
        "BMI is a measure used to determine whether a person has a healthy body weight for a person of their height. It is calculated using the following formula:\n",
        "\n",
        "$$ \\text{BMI} = \\frac{\\text{weight in kilograms}}{\\text{height in meters}^2} $$\n",
        "\n",
        "\n",
        "The BMI categories are:\n",
        "\n",
        "* Underweight: BMI is less than 18.5\n",
        "* Normal weight: BMI is 18.5 to 24.9\n",
        "* Overweight: BMI is 25 to 29.9\n",
        "* Obesity: BMI is 30 or greater\n",
        "\n",
        "**Tasks:**\n",
        "\n",
        "**User Input:**\n",
        "\n",
        "* Prompt the user to input their weight in kilograms (float).\n",
        "* Prompt the user to input their height in meters (float).\n",
        "\n",
        "\n",
        "**Calculate BMI:**\n",
        "\n",
        "Using the formula provided, calculate the BMI. Store it in a variable named bmi.\n",
        "\n",
        "**Provide Health Assessment:**\n",
        "\n",
        "Using conditional statements (if, elif, and else), determine which BMI category the user falls into.\n",
        "Print out the user's BMI and the corresponding health assessment.\n",
        "\n",
        "**Error Handling:**\n",
        "\n",
        "Ensure the user cannot enter a negative or zero value for height or weight. If they do, provide an error message and prompt them to enter the value again.\n"
      ]
    },
    {
      "cell_type": "markdown",
      "id": "d19518ee",
      "metadata": {
        "id": "d19518ee"
      },
      "source": [
        "**Expected Output:**\n",
        "\n",
        "\n",
        "Enter your weight in kilograms: 70\n",
        "Enter your height in meters: 1.75\n",
        "\n",
        "Your BMI is 22.86. You have a Normal weight.\n",
        "\n"
      ]
    },
    {
      "cell_type": "markdown",
      "source": [
        "#Explanation of Comments:\n",
        "\n",
        "##Function Descriptions:\n",
        "\n",
        "Each function now includes a docstring that describes the purpose of the function, its arguments, and its return value.\n",
        "Inside Functions:\n",
        "\n",
        "###calculate_bmi:\n",
        "A comment explains the calculation of BMI.\n",
        "###get_bmi_category:\n",
        "Each conditional check is commented to explain the BMI range being checked.\n",
        "get_positive_float: The loop and error handling logic are commented to explain each step.\n",
        "###Main Program:\n",
        "\n",
        "The main() function's steps are commented to describe the process of prompting the user, calculating BMI, determining the category, and printing the results.\n",
        "Entry Point:\n",
        "\n",
        "The if __name__ == \"__main__\": block is commented to indicate that it calls the main() function when the script is executed directly."
      ],
      "metadata": {
        "id": "8EgekDS7KXV8"
      },
      "id": "8EgekDS7KXV8"
    },
    {
      "cell_type": "code",
      "execution_count": 2,
      "id": "551205ee",
      "metadata": {
        "colab": {
          "base_uri": "https://localhost:8080/"
        },
        "id": "551205ee",
        "outputId": "08836a05-8c6f-4ad3-bcd8-c675b2706b1b"
      },
      "outputs": [
        {
          "output_type": "stream",
          "name": "stdout",
          "text": [
            "BMI Calculator and Health Assessment\n",
            "Enter your weight in kilograms: 70\n",
            "Enter your height in meters: 1.75\n",
            "Your BMI is 22.86. You have a Normal weight.\n"
          ]
        }
      ],
      "source": [
        "#solution\n",
        "#!/usr/bin/python3\n",
        "\n",
        "# Function to calculate BMI\n",
        "def calculate_bmi(weight, height):\n",
        "    \"\"\"\n",
        "    Calculate the Body Mass Index (BMI).\n",
        "\n",
        "    Args:\n",
        "    weight (float): Weight in kilograms.\n",
        "    height (float): Height in meters.\n",
        "\n",
        "    Returns:\n",
        "    float: The calculated BMI.\n",
        "    \"\"\"\n",
        "\n",
        "    # Calculate and return BMI using the formula\n",
        "    return weight / (height ** 2)\n",
        "\n",
        "# Function to determine BMI category based on BMI value\n",
        "def get_bmi_category(bmi):\n",
        "    \"\"\"\n",
        "    Determine the BMI category based on BMI value.\n",
        "\n",
        "    Args:\n",
        "    bmi (float): The calculated BMI.\n",
        "\n",
        "    Returns:\n",
        "    str: The BMI category.\n",
        "    \"\"\"\n",
        "\n",
        "    # Check if BMI is less than 18.5\n",
        "    if bmi < 18.5:\n",
        "        return \"Underweight\"\n",
        "        # Check if BMI is between 18.5 and 24.9\n",
        "    elif 18.5 <= bmi <= 24.9:\n",
        "        return \"Normal weight\"\n",
        "        # Check if BMI is between 25 and 29.9\n",
        "    elif 25 <= bmi <= 29.9:\n",
        "        return \"Overweight\"\n",
        "    else:  # BMI is 30 or greater\n",
        "        return \"Obesity\"\n",
        "\n",
        "# Function to prompt the user for a positive float value\n",
        "def get_positive_float(prompt):\n",
        "    \"\"\"\n",
        "    Prompt the user for a positive float value.\n",
        "\n",
        "    Args:\n",
        "    prompt (str): The prompt message to display.\n",
        "\n",
        "    Returns:\n",
        "    float: The valid positive float value entered by the user.\n",
        "    \"\"\"\n",
        "\n",
        "    # Loop until a valid input is received\n",
        "    while True:\n",
        "        try:\n",
        "            # Get user input and convert to float\n",
        "            value = float(input(prompt))\n",
        "            if value <= 0:  # Check if value is positive\n",
        "                print(\"Value must be positive and greater than zero. Please try again.\")\n",
        "            else:\n",
        "                return value  # Return valid input\n",
        "        except ValueError:  # Handle non-numeric input\n",
        "            print(\"Invalid input. Please enter a numeric value.\")\n",
        "\n",
        "# Main function to run the BMI calculator\n",
        "def main():\n",
        "    \"\"\"\n",
        "    Main function to run the BMI calculator and provide health assessment.\n",
        "    \"\"\"\n",
        "\n",
        "    # Display program title\n",
        "    print(\"BMI Calculator and Health Assessment\")\n",
        "\n",
        "    # Prompt the user for weight and height\n",
        "    weight = get_positive_float(\"Enter your weight in kilograms: \")\n",
        "    height = get_positive_float(\"Enter your height in meters: \")\n",
        "\n",
        "    # Calculate BMI\n",
        "    bmi = calculate_bmi(weight, height)\n",
        "    # Determine BMI category\n",
        "    category = get_bmi_category(bmi)\n",
        "\n",
        "    # Print the BMI and health assessment\n",
        "    print(f\"Your BMI is {bmi:.2f}. You have a {category}.\")\n",
        "\n",
        "# Entry point of the program\n",
        "if __name__ == \"__main__\":\n",
        "    main()  # Call the main function to run the program\n"
      ]
    }
  ],
  "metadata": {
    "kernelspec": {
      "display_name": "Python 3 (ipykernel)",
      "language": "python",
      "name": "python3"
    },
    "language_info": {
      "codemirror_mode": {
        "name": "ipython",
        "version": 3
      },
      "file_extension": ".py",
      "mimetype": "text/x-python",
      "name": "python",
      "nbconvert_exporter": "python",
      "pygments_lexer": "ipython3",
      "version": "3.9.12"
    },
    "colab": {
      "provenance": []
    }
  },
  "nbformat": 4,
  "nbformat_minor": 5
}